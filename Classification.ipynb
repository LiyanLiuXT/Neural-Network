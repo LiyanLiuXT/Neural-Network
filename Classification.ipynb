{
 "cells": [
  {
   "cell_type": "code",
   "execution_count": 3,
   "metadata": {},
   "outputs": [
    {
     "name": "stdout",
     "output_type": "stream",
     "text": [
      "Extracting MNIST_data\\train-images-idx3-ubyte.gz\n",
      "Extracting MNIST_data\\train-labels-idx1-ubyte.gz\n",
      "Extracting MNIST_data\\t10k-images-idx3-ubyte.gz\n",
      "Extracting MNIST_data\\t10k-labels-idx1-ubyte.gz\n",
      "i: 0 accuracy: 0.1104\n",
      "i: 50 accuracy: 0.6372\n",
      "i: 100 accuracy: 0.7395\n",
      "i: 150 accuracy: 0.7814\n",
      "i: 200 accuracy: 0.808\n",
      "i: 250 accuracy: 0.8205\n",
      "i: 300 accuracy: 0.8317\n",
      "i: 350 accuracy: 0.8382\n",
      "i: 400 accuracy: 0.8439\n",
      "i: 450 accuracy: 0.8479\n",
      "i: 500 accuracy: 0.8515\n",
      "i: 550 accuracy: 0.8616\n",
      "i: 600 accuracy: 0.8536\n",
      "i: 650 accuracy: 0.8649\n",
      "i: 700 accuracy: 0.8676\n",
      "i: 750 accuracy: 0.8693\n",
      "i: 800 accuracy: 0.8712\n",
      "i: 850 accuracy: 0.8735\n",
      "i: 900 accuracy: 0.8734\n",
      "i: 950 accuracy: 0.8741\n",
      "i: 1000 accuracy: 0.874\n"
     ]
    }
   ],
   "source": [
    "# classification\n",
    "# 对 mnist 进行分类\n",
    "import tensorflow as tf \n",
    "import numpy as np\n",
    "from tensorflow.examples.tutorials.mnist import input_data\n",
    "\n",
    "def add_layer(inputs, in_size, out_size, activation_function = None):\n",
    "    with tf.name_scope('layer'):\n",
    "        with tf.name_scope('weights'):\n",
    "            Weights = tf.Variable(tf.random_normal([in_size, out_size]), name = 'W')\n",
    "        with tf.name_scope('biases'):\n",
    "            biases = tf.Variable(tf.zeros([1, out_size]) + 0.1, name = 'b')\n",
    "        with tf.name_scope(\"Wx_plus_b\"):\n",
    "            Wx_plus_b = tf.add(tf.matmul(inputs, Weights), biases)\n",
    "    if activation_function is None:\n",
    "        outputs = Wx_plus_b\n",
    "    else:\n",
    "        outputs = activation_function(Wx_plus_b)\n",
    "    return outputs\n",
    "\n",
    "def compute_accuracy(v_xs, v_ys):\n",
    "    global prediction\n",
    "    y_pre = sess.run(prediction, feed_dict={xs: v_xs}) \n",
    "    correct_prediction = tf.equal(tf.argmax(y_pre, 1),tf.argmax(v_ys, 1))\n",
    "    accuracy = tf.reduce_mean(tf.cast(correct_prediction,tf.float32))\n",
    "    result = sess.run(accuracy, feed_dict={xs: v_xs, ys: v_ys})\n",
    "    return result\n",
    "    \n",
    "mnist = input_data.read_data_sets(\"MNIST_data\", one_hot = True)\n",
    "\n",
    "xs = tf.placeholder(tf.float32, [None, 784])\n",
    "ys = tf.placeholder(tf.float32, [None, 10])\n",
    "\n",
    "prediction = add_layer(xs, 784, 10, activation_function=tf.nn.softmax)\n",
    "cross_entropy = tf.reduce_mean(-tf.reduce_sum(ys * tf.log(prediction),\n",
    "                                             reduction_indices = [1]))\n",
    "train_step = tf.train.GradientDescentOptimizer(0.5).minimize(cross_entropy)\n",
    "\n",
    "with tf.Session() as sess:\n",
    "    sess.run(tf.global_variables_initializer())\n",
    "    for i in range(1001):\n",
    "        batch_xs, batch_ys = mnist.train.next_batch(100)\n",
    "        sess.run(train_step, feed_dict={xs: batch_xs, ys: batch_ys})\n",
    "        if i%50 == 0:\n",
    "            print(\"i:\", i, \"accuracy:\",compute_accuracy(mnist.test.images, mnist.test.labels))\n",
    "    "
   ]
  },
  {
   "cell_type": "code",
   "execution_count": null,
   "metadata": {},
   "outputs": [],
   "source": []
  }
 ],
 "metadata": {
  "kernelspec": {
   "display_name": "Python 3",
   "language": "python",
   "name": "python3"
  },
  "language_info": {
   "codemirror_mode": {
    "name": "ipython",
    "version": 3
   },
   "file_extension": ".py",
   "mimetype": "text/x-python",
   "name": "python",
   "nbconvert_exporter": "python",
   "pygments_lexer": "ipython3",
   "version": "3.6.4"
  }
 },
 "nbformat": 4,
 "nbformat_minor": 2
}
